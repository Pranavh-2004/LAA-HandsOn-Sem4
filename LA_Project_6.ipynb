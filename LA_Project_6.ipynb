{
  "nbformat": 4,
  "nbformat_minor": 0,
  "metadata": {
    "colab": {
      "provenance": []
    },
    "kernelspec": {
      "name": "python3",
      "display_name": "Python 3"
    },
    "language_info": {
      "name": "python"
    }
  },
  "cells": [
    {
      "cell_type": "code",
      "execution_count": null,
      "metadata": {
        "id": "AJ_hvuZfH4uF"
      },
      "outputs": [],
      "source": [
        "# Project 7: Norms, angles, and your movie choices\n",
        "import numpy as np\n",
        "import scipy.io"
      ]
    },
    {
      "cell_type": "code",
      "source": [
        "# Load the .mat file\n",
        "data = scipy.io.loadmat('users_movies.mat')\n",
        "# Extract variables from the loaded data\n",
        "movies = data['movies'] # Array of movie titles\n",
        "users_movies = data['users_movies'] # Matrix of user ratings for movies\n",
        "users_movies_sort = data['users_movies_sort'] # Extracted ratings for 20 most popular\n",
        "movies\n",
        "index_small = data['index_small'] # Indexes of the popular movies\n",
        "trial_user = data['trial_user'] # Ratings of the popular movies by a trial user\n",
        "# Get the dimensions of the users_movies matrix\n",
        "m, n = users_movies.shape\n",
        "# Print the variables and their dimensions to verify\n",
        "print(f\"Movies: {movies.shape}\")\n",
        "print(f\"Users Movies: {users_movies.shape}\")\n",
        "print(f\"Users Movies Sort: {users_movies_sort.shape}\")\n",
        "print(f\"Index Small: {index_small.shape}\")\n",
        "print(f\"Trial User: {trial_user.shape}\")\n",
        "print(f\"Dimensions of users_movies: {m} rows, {n} columns\")\n",
        "# Variables: movies, users_movies, users_movies_sort, index_small, trial_user, m, n"
      ],
      "metadata": {
        "colab": {
          "base_uri": "https://localhost:8080/"
        },
        "id": "gtQz-m7WIBRx",
        "outputId": "849e6300-70c4-4bb8-b382-90293b5eec65"
      },
      "execution_count": null,
      "outputs": [
        {
          "output_type": "stream",
          "name": "stdout",
          "text": [
            "Movies: (3952, 1)\n",
            "Users Movies: (6040, 3952)\n",
            "Users Movies Sort: (6040, 20)\n",
            "Index Small: (1, 20)\n",
            "Trial User: (1, 20)\n",
            "Dimensions of users_movies: 6040 rows, 3952 columns\n"
          ]
        }
      ]
    },
    {
      "cell_type": "code",
      "source": [
        "# Print the titles of the 20 most popular movies\n",
        "print('Rating is based on movies:')\n",
        "# Loop through the index_small array and print the corresponding movie titles\n",
        "for idx in index_small.flatten():\n",
        "    print(movies[idx][0])\n",
        "print('\\n')"
      ],
      "metadata": {
        "colab": {
          "base_uri": "https://localhost:8080/"
        },
        "id": "XEksZP35IJel",
        "outputId": "466837f6-09ff-4234-dcff-956525788a47"
      },
      "execution_count": null,
      "outputs": [
        {
          "output_type": "stream",
          "name": "stdout",
          "text": [
            "Rating is based on movies:\n",
            "['Search for One-eye Jimmy, The (1996)']\n",
            "['Little Women (1994)']\n",
            "['Princess Bride, The (1987)']\n",
            "['Wings of Desire (Der Himmel über Berlin) (1987)']\n",
            "['Kalifornia (1993)']\n",
            "[\"Billy's Hollywood Screen Kiss (1997)\"]\n",
            "['Dances with Wolves (1990)']\n",
            "['10 Things I Hate About You (1999)']\n",
            "['Fried Green Tomatoes (1991)']\n",
            "['Snow White and the Seven Dwarfs (1937)']\n",
            "['Love Letter, The (1999)']\n",
            "['Brazil (1985)']\n",
            "['Homeward Bound II']\n",
            "['Thomas Crown Affair, The (1999)']\n",
            "['Taxi Driver (1976)']\n",
            "['Mass Appeal (1984)']\n",
            "['Raiders of the Lost Ark (1981)']\n",
            "['Scout, The (1994)']\n",
            "['Shallow Grave (1994)']\n",
            "['Unforgiven (1992)']\n",
            "\n",
            "\n"
          ]
        }
      ]
    },
    {
      "cell_type": "code",
      "source": [
        "print(\"\\nSubtask 3\\n\")\n",
        "# Get the dimensions of the users_movies_sort matrix\n",
        "m1, n1 = users_movies_sort.shape\n",
        "# Initialize an empty list to store the ratings of users who have rated all 20 popular movies\n",
        "ratings = []\n",
        "# Loop through each row in users_movies_sort\n",
        "for j in range(m1):\n",
        "# Check if the product of the elements in the row is not zero (meaning no zeros in the row)\n",
        "    if np.prod(users_movies_sort[j, :]) != 0:\n",
        "# Append the row to the ratings list\n",
        "        ratings.append(users_movies_sort[j, :])\n",
        "# Convert the ratings list to a NumPy array\n",
        "ratings = np.array(ratings)\n",
        "# Print the resulting ratings array\n",
        "print(f\"Ratings: {ratings.shape}\")"
      ],
      "metadata": {
        "colab": {
          "base_uri": "https://localhost:8080/"
        },
        "id": "-NNBAlHJINgf",
        "outputId": "06657078-7604-4991-dc5d-af67e0ccab97"
      },
      "execution_count": null,
      "outputs": [
        {
          "output_type": "stream",
          "name": "stdout",
          "text": [
            "\n",
            "Subtask 3\n",
            "\n",
            "Ratings: (125, 20)\n"
          ]
        }
      ]
    },
    {
      "cell_type": "code",
      "source": [
        "print(\"\\nSubtask 4\\n\")\n",
        "# Get the dimensions of the ratings matrix\n",
        "m2, n2 = ratings.shape\n",
        "# Initialize an empty list to store the Euclidean distances\n",
        "eucl = []\n",
        "# Loop through each row in ratings\n",
        "for i in range(m2):\n",
        "# Calculate the Euclidean distance between the trial_user vector and the current row of ratings\n",
        "    distance = np.linalg.norm(ratings[i, :] - trial_user.flatten())\n",
        "# Append the distance to the eucl list\n",
        "eucl.append(distance)\n",
        "# Convert the eucl list to a NumPy array\n",
        "eucl = np.array(eucl)\n",
        "# Print the resulting Euclidean distances\n",
        "print(f\"Euclidean distances: {eucl}\")\n",
        "# Variables: eucl"
      ],
      "metadata": {
        "colab": {
          "base_uri": "https://localhost:8080/"
        },
        "id": "vuk8Hn2XIWi_",
        "outputId": "e82f77f9-124d-4b83-f6d2-f91cba803d16"
      },
      "execution_count": null,
      "outputs": [
        {
          "output_type": "stream",
          "name": "stdout",
          "text": [
            "\n",
            "Subtask 4\n",
            "\n",
            "Euclidean distances: [570.2499452]\n"
          ]
        }
      ]
    },
    {
      "cell_type": "code",
      "source": [
        "print(\"\\nSubtask 5\\n\")\n",
        "# Sort the Euclidean distances in ascending order\n",
        "DistIndex = np.argsort(eucl)\n",
        "MinDist = np.sort(eucl)\n",
        "# Find the index of the closest user\n",
        "closest_user_Dist = DistIndex[0]\n",
        "# Print the results\n",
        "print(f\"Sorted Euclidean distances: {MinDist}\")\n",
        "print(f\"Indices of users sorted by distance: {DistIndex}\")\n",
        "print(f\"Index of closest user: {closest_user_Dist}\")\n",
        "# Variables: MinDist, DistIndex, closest_user_Dist"
      ],
      "metadata": {
        "colab": {
          "base_uri": "https://localhost:8080/"
        },
        "id": "5jvEX5ajIY5Q",
        "outputId": "34ecdd5d-0d9a-4804-f14c-bd4fd4219c24"
      },
      "execution_count": null,
      "outputs": [
        {
          "output_type": "stream",
          "name": "stdout",
          "text": [
            "\n",
            "Subtask 5\n",
            "\n",
            "Sorted Euclidean distances: [570.2499452]\n",
            "Indices of users sorted by distance: [0]\n",
            "Index of closest user: 0\n"
          ]
        }
      ]
    },
    {
      "cell_type": "code",
      "source": [
        "print(\"\\nSubtask 6\\n\")\n",
        "# Centralize the columns of the matrix ratings\n",
        "ratings_cent = ratings - np.mean(ratings, axis=1).reshape(-1, 1)\n",
        "# Centralize the trial_user vector\n",
        "trial_user_cent = trial_user - np.mean(trial_user)\n",
        "# Print the centralized ratings and trial_user vectors\n",
        "print(f\"Centralized ratings: \\n{ratings_cent}\")\n",
        "print(f\"Centralized trial_user: \\n{trial_user_cent}\")\n",
        "# Variables: ratings_cent, trial_user_cent"
      ],
      "metadata": {
        "colab": {
          "base_uri": "https://localhost:8080/"
        },
        "id": "1cz0TVtdIcFh",
        "outputId": "6b774d95-1103-4931-c236-ba9a75e1b92e"
      },
      "execution_count": null,
      "outputs": [
        {
          "output_type": "stream",
          "name": "stdout",
          "text": [
            "\n",
            "Subtask 6\n",
            "\n",
            "Centralized ratings: \n",
            "[[-0.4   0.6   0.6  ...  0.6  -0.4  -1.4 ]\n",
            " [-0.55  0.45  0.45 ...  0.45  0.45  0.45]\n",
            " [ 0.6   0.6   0.6  ...  0.6   0.6  -0.4 ]\n",
            " ...\n",
            " [ 0.55  0.55  0.55 ...  0.55  0.55 -0.45]\n",
            " [-0.5   0.5   0.5  ...  0.5   0.5   0.5 ]\n",
            " [-0.4  -0.4  -0.4  ...  0.6   0.6   0.6 ]]\n",
            "Centralized trial_user: \n",
            "[[-0.45  1.55  1.55  1.55 -0.45 -2.45  0.55  1.55 -1.45  1.55 -1.45  1.55\n",
            "  -0.45  0.55  0.55 -1.45 -1.45 -2.45 -0.45  1.55]]\n"
          ]
        }
      ]
    },
    {
      "cell_type": "code",
      "source": [
        "# Initialize the pearson array\n",
        "pearson = np.zeros(m2)\n",
        "# Compute Pearson correlation coefficients\n",
        "for i in range(m2):\n",
        "    pearson[i] = np.corrcoef(ratings_cent[i, :], trial_user_cent.flatten())[0, 1]\n",
        "# Print the resulting Pearson correlation coefficients\n",
        "print(f\"Pearson correlation coefficients: {pearson}\")\n",
        "# Variables: pearson"
      ],
      "metadata": {
        "colab": {
          "base_uri": "https://localhost:8080/"
        },
        "id": "sf_wGyIRIfDe",
        "outputId": "4478bbb3-604e-4726-d353-7400b36cd8b2"
      },
      "execution_count": null,
      "outputs": [
        {
          "output_type": "stream",
          "name": "stdout",
          "text": [
            "Pearson correlation coefficients: [ 0.07561935  0.36369309  0.0245783  -0.16556179  0.03582872  0.2140846\n",
            "  0.14763779 -0.02178972 -0.0100936   0.09702463  0.05321628 -0.2062086\n",
            "  0.16821448  0.60769118  0.32403366  0.19674451  0.36226722  0.33180702\n",
            " -0.0053019   0.12647862  0.30960763  0.44063497 -0.06205716  0.4257963\n",
            " -0.183647   -0.15140397  0.24374604  0.14284374  0.19674451  0.39302868\n",
            "  0.33727631  0.46562671  0.13151475 -0.01950268  0.15690109 -0.34105647\n",
            "  0.24896632  0.21031844  0.15617376 -0.01194291 -0.11582368 -0.08011545\n",
            "  0.10748615  0.39938107  0.21573203  0.16556179 -0.24313206  0.20259223\n",
            "  0.27942446  0.33700654  0.08682524  0.13122024  0.32557134  0.0533586\n",
            "  0.14811562  0.36933894 -0.00739965  0.28900603  0.13876403 -0.14800564\n",
            "  0.33653018 -0.15539269  0.19444977 -0.10748615  0.35165724  0.06931045\n",
            "  0.28756254  0.00267796  0.21716794 -0.32403366  0.13291394  0.24573705\n",
            " -0.11582368  0.42128131 -0.07397705  0.00267796  0.1170161   0.16556179\n",
            "  0.3024463   0.23837048  0.28858643  0.43115223  0.04744598  0.10551014\n",
            " -0.01194291 -0.03570538  0.05623725  0.62896156 -0.0100936  -0.16677361\n",
            " -0.01791436  0.1800582   0.21691509  0.08682524  0.13545965  0.32924378\n",
            "  0.23837048 -0.11781529  0.51951641  0.09871488  0.12869663  0.15107865\n",
            "  0.21452952  0.06541399  0.05472927 -0.17929818  0.31402432  0.23580013\n",
            "  0.2549193   0.01917923  0.24222691  0.01126761  0.59988588  0.2533473\n",
            "  0.09057869  0.12459704  0.05175259 -0.01748262  0.47449447 -0.07505349\n",
            "  0.30217235 -0.10238909 -0.36958744  0.16909002 -0.1170161 ]\n"
          ]
        }
      ]
    },
    {
      "cell_type": "code",
      "source": [
        "# Sort the Pearson correlation coefficients in descending order\n",
        "PearsonIndex = np.argsort(pearson)[::-1]\n",
        "MaxPearson = np.sort(pearson)[::-1]\n",
        "# Find the index of the user with the highest correlation coefficient\n",
        "closest_user_Pearson = PearsonIndex[0]\n",
        "# Print the results\n",
        "print(f\"Sorted Pearson correlation coefficients:\\n {MaxPearson}\")\n",
        "print(f\"Indices of users sorted by Pearson correlation:\\n {PearsonIndex}\")\n",
        "print(f\"Index of user with highest Pearson correlation: {closest_user_Pearson}\")\n",
        "# Variables: MaxPearson, PearsonIndex, closest_user_Pearson"
      ],
      "metadata": {
        "colab": {
          "base_uri": "https://localhost:8080/"
        },
        "id": "D6xkEGzgImuM",
        "outputId": "ab8e3a2f-4b8b-46e7-b1b5-3a4187a500cc"
      },
      "execution_count": null,
      "outputs": [
        {
          "output_type": "stream",
          "name": "stdout",
          "text": [
            "Sorted Pearson correlation coefficients:\n",
            " [ 0.62896156  0.60769118  0.59988588  0.51951641  0.47449447  0.46562671\n",
            "  0.44063497  0.43115223  0.4257963   0.42128131  0.39938107  0.39302868\n",
            "  0.36933894  0.36369309  0.36226722  0.35165724  0.33727631  0.33700654\n",
            "  0.33653018  0.33180702  0.32924378  0.32557134  0.32403366  0.31402432\n",
            "  0.30960763  0.3024463   0.30217235  0.28900603  0.28858643  0.28756254\n",
            "  0.27942446  0.2549193   0.2533473   0.24896632  0.24573705  0.24374604\n",
            "  0.24222691  0.23837048  0.23837048  0.23580013  0.21716794  0.21691509\n",
            "  0.21573203  0.21452952  0.2140846   0.21031844  0.20259223  0.19674451\n",
            "  0.19674451  0.19444977  0.1800582   0.16909002  0.16821448  0.16556179\n",
            "  0.16556179  0.15690109  0.15617376  0.15107865  0.14811562  0.14763779\n",
            "  0.14284374  0.13876403  0.13545965  0.13291394  0.13151475  0.13122024\n",
            "  0.12869663  0.12647862  0.12459704  0.1170161   0.10748615  0.10551014\n",
            "  0.09871488  0.09702463  0.09057869  0.08682524  0.08682524  0.07561935\n",
            "  0.06931045  0.06541399  0.05623725  0.05472927  0.0533586   0.05321628\n",
            "  0.05175259  0.04744598  0.03582872  0.0245783   0.01917923  0.01126761\n",
            "  0.00267796  0.00267796 -0.0053019  -0.00739965 -0.0100936  -0.0100936\n",
            " -0.01194291 -0.01194291 -0.01748262 -0.01791436 -0.01950268 -0.02178972\n",
            " -0.03570538 -0.06205716 -0.07397705 -0.07505349 -0.08011545 -0.10238909\n",
            " -0.10748615 -0.11582368 -0.11582368 -0.1170161  -0.11781529 -0.14800564\n",
            " -0.15140397 -0.15539269 -0.16556179 -0.16677361 -0.17929818 -0.183647\n",
            " -0.2062086  -0.24313206 -0.32403366 -0.34105647 -0.36958744]\n",
            "Indices of users sorted by Pearson correlation:\n",
            " [ 87  13 112  98 118  31  21  81  23  73  43  29  55   1  16  64  30  49\n",
            "  60  17  95  52  14 106  20  78 120  57  80  66  48 108 113  36  71  26\n",
            " 110  96  79 107  68  92  44 102   5  37  47  28  15  62  91 123  12  45\n",
            "  77  34  38 101  54   6  27  58  94  70  32  51 100  19 115  76  42  83\n",
            "  99   9 114  93  50   0  65 103  86 104  53  10 116  82   4   2 109 111\n",
            "  67  75  18  56   8  88  39  84 117  90  33   7  85  22  74 119  41 121\n",
            "  63  72  40 124  97  59  25  61   3  89 105  24  11  46  69  35 122]\n",
            "Index of user with highest Pearson correlation: 87\n"
          ]
        }
      ]
    },
    {
      "cell_type": "code",
      "source": [
        "# Compare the elements of the vectors DistIndex and PearsonIndex\n",
        "print(\"Indices sorted by Euclidean distance:\", DistIndex)\n",
        "print(\"Indices sorted by Pearson correlation:\", PearsonIndex)\n",
        "# Check if the variables closest_user_Pearson and closest_user_Dist are the same\n",
        "if closest_user_Pearson == closest_user_Dist:\n",
        "    print(\"The variables closest_user_Pearson and closest_user_Dist are the same.\")\n",
        "else:\n",
        "    print(\"The variables closest_user_Pearson and closest_user_Dist are different.\")"
      ],
      "metadata": {
        "colab": {
          "base_uri": "https://localhost:8080/"
        },
        "id": "1orGz_kRIpv9",
        "outputId": "2b7cf362-1ae9-453a-d29e-495b94bd0ec0"
      },
      "execution_count": null,
      "outputs": [
        {
          "output_type": "stream",
          "name": "stdout",
          "text": [
            "Indices sorted by Euclidean distance: [0]\n",
            "Indices sorted by Pearson correlation: [ 87  13 112  98 118  31  21  81  23  73  43  29  55   1  16  64  30  49\n",
            "  60  17  95  52  14 106  20  78 120  57  80  66  48 108 113  36  71  26\n",
            " 110  96  79 107  68  92  44 102   5  37  47  28  15  62  91 123  12  45\n",
            "  77  34  38 101  54   6  27  58  94  70  32  51 100  19 115  76  42  83\n",
            "  99   9 114  93  50   0  65 103  86 104  53  10 116  82   4   2 109 111\n",
            "  67  75  18  56   8  88  39  84 117  90  33   7  85  22  74 119  41 121\n",
            "  63  72  40 124  97  59  25  61   3  89 105  24  11  46  69  35 122]\n",
            "The variables closest_user_Pearson and closest_user_Dist are different.\n"
          ]
        }
      ]
    },
    {
      "cell_type": "code",
      "source": [
        "print(\"index_small shape:\", index_small.shape)\n",
        "print(\"trial_user shape:\", trial_user.shape)\n",
        "# Load the .mat file\n",
        "data = scipy.io.loadmat('users_movies.mat')\n",
        "# Extract variables from the loaded data\n",
        "movies = data['movies'] # Array of movie titles\n",
        "users_movies = data['users_movies'] # Matrix of user ratings for movies\n",
        "users_movies_sort = data['users_movies_sort'] # Extracted ratings for 20 most popular\n",
        "movies\n",
        "index_small = data['index_small'].flatten() # Flatten index_small to 1D array\n",
        "trial_user = data['trial_user'].flatten() # Ensure trial_user is 1D array\n",
        "# Variables: movies, users_movies, users_movies_sort, index_small, trial_user\n",
        "m, n = users_movies.shape\n",
        "# Recommendations based on the distance criterion\n",
        "recommend_dist = []\n",
        "for k in range(n):\n",
        "    if users_movies[closest_user_Dist, k] == 5:\n",
        "        recommend_dist.append(k)\n",
        "# Recommendations based on the Pearson correlation coefficient criterion\n",
        "recommend_pearson = []\n",
        "for k in range(n):\n",
        "    if users_movies[closest_user_Pearson, k] == 5:\n",
        "        recommend_pearson.append(k)\n",
        "# Movies liked by the trial user\n",
        "liked = []\n",
        "for k in range(20):\n",
        "    if trial_user[k] == 5:\n",
        "# Convert 2D index_small to 1D index and add to liked list\n",
        "        if k < len(index_small):\n",
        "            liked.append(index_small[k])\n",
        "# Convert indices to movie titles\n",
        "liked_titles = [movies[i][0] for i in liked]\n",
        "recommend_dist_titles = [movies[i][0] for i in recommend_dist]\n",
        "recommend_pearson_titles = [movies[i][0] for i in recommend_pearson]\n",
        "# Print the results\n",
        "print(\"Movies liked by the trial user:\", liked_titles)\n",
        "print(\"Recommended movies based on distance criterion:\", recommend_dist_titles)\n",
        "print(\"Recommended movies based on Pearson correlation criterion:\",\n",
        "recommend_pearson_titles)\n",
        "# Variables: liked, recommend_dist, recommend_pearson"
      ],
      "metadata": {
        "colab": {
          "base_uri": "https://localhost:8080/"
        },
        "id": "3ILrzzwpIsUw",
        "outputId": "d864174e-cd36-4e7c-f874-05b441087f87"
      },
      "execution_count": null,
      "outputs": [
        {
          "output_type": "stream",
          "name": "stdout",
          "text": [
            "index_small shape: (20,)\n",
            "trial_user shape: (20,)\n",
            "Movies liked by the trial user: [array(['Little Women (1994)'], dtype='<U19'), array(['Princess Bride, The (1987)'], dtype='<U26'), array(['Wings of Desire (Der Himmel über Berlin) (1987)'], dtype='<U47'), array(['10 Things I Hate About You (1999)'], dtype='<U33'), array(['Snow White and the Seven Dwarfs (1937)'], dtype='<U38'), array(['Brazil (1985)'], dtype='<U13'), array(['Unforgiven (1992)'], dtype='<U17')]\n",
            "Recommended movies based on distance criterion: [array(['Toy Story (1995)'], dtype='<U16'), array(['Pocahontas (1995)'], dtype='<U17'), array(['Apollo 13 (1995)'], dtype='<U16'), array([\"Schindler's List (1993)\"], dtype='<U23'), array(['Beauty and the Beast (1991)'], dtype='<U27'), array(['Cinderella (1950)'], dtype='<U17'), array(['Mary Poppins (1964)'], dtype='<U19'), array(['Dumbo (1941)'], dtype='<U12'), array(['Sound of Music, The (1965)'], dtype='<U26'), array(['Paris Is Burning (1990)'], dtype='<U23'), array(['Back to the Future (1985)'], dtype='<U25'), array(['Ben-Hur (1959)'], dtype='<U14'), array(['City of Angels (1998)'], dtype='<U21'), array(['Rain Man (1988)'], dtype='<U15'), array(['Saving Private Ryan (1998)'], dtype='<U26'), array([\"Bug's Life, A (1998)\"], dtype='<U20'), array(['Christmas Story, A (1983)'], dtype='<U25'), array(['Awakenings (1990)'], dtype='<U17')]\n",
            "Recommended movies based on Pearson correlation criterion: [array(['Taxi Driver (1976)'], dtype='<U18'), array([\"Schindler's List (1993)\"], dtype='<U23'), array(['Fargo (1996)'], dtype='<U12'), array(['Godfather, The (1972)'], dtype='<U21'), array(['North by Northwest (1959)'], dtype='<U25'), array(['Casablanca (1942)'], dtype='<U17'), array(['Citizen Kane (1941)'], dtype='<U19'), array(['Mr. Smith Goes to Washington (1939)'], dtype='<U35'), array(['Bonnie and Clyde (1967)'], dtype='<U23'), array(['Bob Roberts (1992)'], dtype='<U18'), array(['Paris Is Burning (1990)'], dtype='<U23'), array(['12 Angry Men (1957)'], dtype='<U19'), array(['To Kill a Mockingbird (1962)'], dtype='<U28'), array(['Title not available'], dtype='<U19'), array(['Grand Day Out, A (1992)'], dtype='<U23'), array(['Raging Bull (1980)'], dtype='<U18'), array(['Annie Hall (1977)'], dtype='<U17'), array(['Stand by Me (1986)'], dtype='<U18'), array(['Killing Fields, The (1984)'], dtype='<U26'), array(['My Life as a Dog (Mitt liv som hund) (1985)'], dtype='<U43'), array(['Tickle in the Heart, A (1996)'], dtype='<U29'), array(['Boys, Les (1997)'], dtype='<U16'), array([\"There's Something About Mary (1998)\"], dtype='<U35'), array(['On the Waterfront (1954)'], dtype='<U24'), array(['Ordinary People (1980)'], dtype='<U22'), array(['Chariots of Fire (1981)'], dtype='<U23'), array(['Rain Man (1988)'], dtype='<U15'), array(['Saving Private Ryan (1998)'], dtype='<U26'), array(['Life Is Beautiful (La Vita è bella) (1997)'], dtype='<U42'), array(['Risky Business (1983)'], dtype='<U21'), array(['Brief Encounter (1946)'], dtype='<U22'), array(['Shower (Xizhao) (1999)'], dtype='<U22')]\n"
          ]
        }
      ]
    },
    {
      "cell_type": "code",
      "source": [
        "# Function to print movie titles based on indices\n",
        "def print_movie_titles(indices, movie_titles):\n",
        "    print(\"Movie Titles:\")\n",
        "    for index in indices:\n",
        "        print(movie_titles[index])\n",
        "    print()\n",
        "# Print titles of movies liked by the trial user\n",
        "print(\"Movies liked by the trial user:\")\n",
        "print_movie_titles(liked, movies)\n",
        "# Print recommendations based on the distance criterion\n",
        "print(\"Recommended movies based on distance criterion:\")\n",
        "print_movie_titles(recommend_dist, movies)\n",
        "# Print recommendations based on the Pearson correlation criterion\n",
        "print(\"Recommended movies based on Pearson correlation criterion:\")\n",
        "print_movie_titles(recommend_pearson, movies)"
      ],
      "metadata": {
        "colab": {
          "base_uri": "https://localhost:8080/"
        },
        "id": "o9Ge-5UEIvsk",
        "outputId": "274b3ea7-cb31-4fd9-cbc5-27cb05e72635"
      },
      "execution_count": null,
      "outputs": [
        {
          "output_type": "stream",
          "name": "stdout",
          "text": [
            "Movies liked by the trial user:\n",
            "Movie Titles:\n",
            "[array(['Little Women (1994)'], dtype='<U19')]\n",
            "[array(['Princess Bride, The (1987)'], dtype='<U26')]\n",
            "[array(['Wings of Desire (Der Himmel über Berlin) (1987)'], dtype='<U47')]\n",
            "[array(['10 Things I Hate About You (1999)'], dtype='<U33')]\n",
            "[array(['Snow White and the Seven Dwarfs (1937)'], dtype='<U38')]\n",
            "[array(['Brazil (1985)'], dtype='<U13')]\n",
            "[array(['Unforgiven (1992)'], dtype='<U17')]\n",
            "\n",
            "Recommended movies based on distance criterion:\n",
            "Movie Titles:\n",
            "[array(['Toy Story (1995)'], dtype='<U16')]\n",
            "[array(['Pocahontas (1995)'], dtype='<U17')]\n",
            "[array(['Apollo 13 (1995)'], dtype='<U16')]\n",
            "[array([\"Schindler's List (1993)\"], dtype='<U23')]\n",
            "[array(['Beauty and the Beast (1991)'], dtype='<U27')]\n",
            "[array(['Cinderella (1950)'], dtype='<U17')]\n",
            "[array(['Mary Poppins (1964)'], dtype='<U19')]\n",
            "[array(['Dumbo (1941)'], dtype='<U12')]\n",
            "[array(['Sound of Music, The (1965)'], dtype='<U26')]\n",
            "[array(['Paris Is Burning (1990)'], dtype='<U23')]\n",
            "[array(['Back to the Future (1985)'], dtype='<U25')]\n",
            "[array(['Ben-Hur (1959)'], dtype='<U14')]\n",
            "[array(['City of Angels (1998)'], dtype='<U21')]\n",
            "[array(['Rain Man (1988)'], dtype='<U15')]\n",
            "[array(['Saving Private Ryan (1998)'], dtype='<U26')]\n",
            "[array([\"Bug's Life, A (1998)\"], dtype='<U20')]\n",
            "[array(['Christmas Story, A (1983)'], dtype='<U25')]\n",
            "[array(['Awakenings (1990)'], dtype='<U17')]\n",
            "\n",
            "Recommended movies based on Pearson correlation criterion:\n",
            "Movie Titles:\n",
            "[array(['Taxi Driver (1976)'], dtype='<U18')]\n",
            "[array([\"Schindler's List (1993)\"], dtype='<U23')]\n",
            "[array(['Fargo (1996)'], dtype='<U12')]\n",
            "[array(['Godfather, The (1972)'], dtype='<U21')]\n",
            "[array(['North by Northwest (1959)'], dtype='<U25')]\n",
            "[array(['Casablanca (1942)'], dtype='<U17')]\n",
            "[array(['Citizen Kane (1941)'], dtype='<U19')]\n",
            "[array(['Mr. Smith Goes to Washington (1939)'], dtype='<U35')]\n",
            "[array(['Bonnie and Clyde (1967)'], dtype='<U23')]\n",
            "[array(['Bob Roberts (1992)'], dtype='<U18')]\n",
            "[array(['Paris Is Burning (1990)'], dtype='<U23')]\n",
            "[array(['12 Angry Men (1957)'], dtype='<U19')]\n",
            "[array(['To Kill a Mockingbird (1962)'], dtype='<U28')]\n",
            "[array(['Title not available'], dtype='<U19')]\n",
            "[array(['Grand Day Out, A (1992)'], dtype='<U23')]\n",
            "[array(['Raging Bull (1980)'], dtype='<U18')]\n",
            "[array(['Annie Hall (1977)'], dtype='<U17')]\n",
            "[array(['Stand by Me (1986)'], dtype='<U18')]\n",
            "[array(['Killing Fields, The (1984)'], dtype='<U26')]\n",
            "[array(['My Life as a Dog (Mitt liv som hund) (1985)'], dtype='<U43')]\n",
            "[array(['Tickle in the Heart, A (1996)'], dtype='<U29')]\n",
            "[array(['Boys, Les (1997)'], dtype='<U16')]\n",
            "[array([\"There's Something About Mary (1998)\"], dtype='<U35')]\n",
            "[array(['On the Waterfront (1954)'], dtype='<U24')]\n",
            "[array(['Ordinary People (1980)'], dtype='<U22')]\n",
            "[array(['Chariots of Fire (1981)'], dtype='<U23')]\n",
            "[array(['Rain Man (1988)'], dtype='<U15')]\n",
            "[array(['Saving Private Ryan (1998)'], dtype='<U26')]\n",
            "[array(['Life Is Beautiful (La Vita è bella) (1997)'], dtype='<U42')]\n",
            "[array(['Risky Business (1983)'], dtype='<U21')]\n",
            "[array(['Brief Encounter (1946)'], dtype='<U22')]\n",
            "[array(['Shower (Xizhao) (1999)'], dtype='<U22')]\n",
            "\n"
          ]
        }
      ]
    },
    {
      "cell_type": "code",
      "source": [
        "# Manually specify your ratings for the 20 popular movies\n",
        "# Example: Dislike some movies (1), Like some movies (5), Random ratings for others\n",
        "# Replace these values with your own ratings\n",
        "myratings = np.array([5, 1, 4, 3, 2, 5, 1, 4, 3, 5, 2, 5, 1, 3, 4, 5, 2, 1, 4, 3])\n",
        "# Ensure myratings is a row vector (1D array with 20 elements)\n",
        "print(\"My Ratings Vector:\")\n",
        "print(myratings)"
      ],
      "metadata": {
        "colab": {
          "base_uri": "https://localhost:8080/"
        },
        "id": "RHJq9WJ_I2aw",
        "outputId": "00b243f5-c2c9-47d6-b231-aebea6ed5909"
      },
      "execution_count": null,
      "outputs": [
        {
          "output_type": "stream",
          "name": "stdout",
          "text": [
            "My Ratings Vector:\n",
            "[5 1 4 3 2 5 1 4 3 5 2 5 1 3 4 5 2 1 4 3]\n"
          ]
        }
      ]
    },
    {
      "cell_type": "code",
      "source": [
        "# Load the .mat file\n",
        "data = scipy.io.loadmat('users_movies.mat')\n",
        "# Extract variables from the loaded data\n",
        "movies = data['movies'] # Array of movie titles\n",
        "users_movies = data['users_movies'] # Matrix of user ratings for movies\n",
        "users_movies_sort = data['users_movies_sort'] # Extracted ratings for 20 most popular movies\n",
        "index_small = data['index_small'].flatten() # Flatten index_small to 1D array\n",
        "# Define your own ratings vector (myratings)\n",
        "myratings = np.array([5, 1, 4, 3, 2, 5, 1, 4, 3, 5, 2, 5, 1, 3, 4, 5, 2, 1, 4, 3])\n",
        "# Step 4: Select users who rated all 20 popular movies\n",
        "[m1, n1] = users_movies_sort.shape\n",
        "ratings = [users_movies_sort[j, :] for j in range(m1) if np.all(users_movies_sort[j, :] > 0)]\n",
        "ratings = np.array(ratings)\n",
        "# Step 5: Compute Euclidean distances\n",
        "eucl = np.linalg.norm(ratings - myratings, axis=1)\n",
        "# Step 6: Find the closest user based on Euclidean distance\n",
        "MinDist, DistIndex = np.sort(eucl), np.argsort(eucl)\n",
        "closest_user_Dist = DistIndex[0]\n",
        "# Step 7: Centralize ratings and myratings for Pearson correlation\n",
        "ratings_cent = ratings - np.mean(ratings, axis=1, keepdims=True)\n",
        "myratings_cent = myratings - np.mean(myratings)\n",
        "# Step 8: Compute Pearson correlation coefficients\n",
        "pearson = np.sum(ratings_cent * myratings_cent, axis=1) / (\n",
        "np.sqrt(np.sum(ratings_cent ** 2, axis=1)) * np.sqrt(np.sum(myratings_cent ** 2))\n",
        ")\n",
        "# Step 9: Find the closest user based on Pearson correlation\n",
        "MaxPearson, PearsonIndex = np.sort(pearson)[::-1], np.argsort(pearson)[::-1]\n",
        "closest_user_Pearson = PearsonIndex[0]\n",
        "# Step 10: Create recommendations based on the distance criterion\n",
        "recommend_dist = [k for k in range(users_movies.shape[1]) if users_movies[closest_user_Dist, k]\n",
        "== 5]\n",
        "# Step 11: Create recommendations based on the Pearson correlation criterion\n",
        "recommend_pearson = [k for k in range(users_movies.shape[1]) if\n",
        "users_movies[closest_user_Pearson, k] == 5]\n",
        "# Create the list of movies liked by the trial user\n",
        "liked = [index_small[k] for k in range(20) if myratings[k] == 5]\n",
        "# Convert indices to movie titles\n",
        "liked_titles = [movies[i][0] for i in liked]\n",
        "recommend_dist_titles = [movies[i][0] for i in recommend_dist]\n",
        "recommend_pearson_titles = [movies[i][0] for i in recommend_pearson]\n",
        "# Print the results\n",
        "print(\"Movies liked by the trial user:\")\n",
        "print(liked_titles)\n",
        "print(\"Recommended movies based on distance criterion:\")\n",
        "print(recommend_dist_titles)\n",
        "print(\"Recommended movies based on Pearson correlation criterion:\")\n",
        "print(recommend_pearson_titles)"
      ],
      "metadata": {
        "colab": {
          "base_uri": "https://localhost:8080/"
        },
        "id": "U0VjHfEZI5pc",
        "outputId": "4f110300-c52d-49e0-d3ac-593faf3062fa"
      },
      "execution_count": null,
      "outputs": [
        {
          "output_type": "stream",
          "name": "stdout",
          "text": [
            "Movies liked by the trial user:\n",
            "[array(['Search for One-eye Jimmy, The (1996)'], dtype='<U36'), array([\"Billy's Hollywood Screen Kiss (1997)\"], dtype='<U36'), array(['Snow White and the Seven Dwarfs (1937)'], dtype='<U38'), array(['Brazil (1985)'], dtype='<U13'), array(['Mass Appeal (1984)'], dtype='<U18')]\n",
            "Recommended movies based on distance criterion:\n",
            "[array(['Star Wars Episode IV - A New Hope (1977)'], dtype='<U40'), array(['Silence of the Lambs, The (1991)'], dtype='<U32'), array(['Casablanca (1942)'], dtype='<U17'), array(['Maltese Falcon, The (1941)'], dtype='<U26'), array(['Wizard of Oz, The (1939)'], dtype='<U24'), array(['Gone with the Wind (1939)'], dtype='<U25'), array(['Citizen Kane (1941)'], dtype='<U19'), array(['2001'], dtype='<U4'), array(['Paris Is Burning (1990)'], dtype='<U23'), array(['Raiders of the Lost Ark (1981)'], dtype='<U30'), array(['Bridge on the River Kwai, The (1957)'], dtype='<U36'), array(['Patton (1970)'], dtype='<U13'), array(['High Noon (1952)'], dtype='<U16'), array(['Gandhi (1982)'], dtype='<U13'), array(['Frankenstein (1931)'], dtype='<U19'), array(['Papillon (1973)'], dtype='<U15'), array(['Inherit the Wind (1960)'], dtype='<U23')]\n",
            "Recommended movies based on Pearson correlation criterion:\n",
            "[array([\"Schindler's List (1993)\"], dtype='<U23'), array(['Year of the Horse (1997)'], dtype='<U24'), array(['Saving Private Ryan (1998)'], dtype='<U26'), array(['Matrix, The (1999)'], dtype='<U18'), array(['Thirteenth Floor, The (1999)'], dtype='<U28'), array(['American Beauty (1999)'], dtype='<U22'), array(['Far and Away (1992)'], dtype='<U19'), array(['Beach, The (2000)'], dtype='<U17'), array(['Final Destination (2000)'], dtype='<U24'), array(['High Fidelity (2000)'], dtype='<U20'), array(['Gladiator (2000)'], dtype='<U16'), array(['Mission'], dtype='<U7'), array(['Titan A.E. (2000)'], dtype='<U17'), array(['Me, Myself and Irene (2000)'], dtype='<U27'), array(['Remember the Titans (2000)'], dtype='<U26')]\n"
          ]
        }
      ]
    },
    {
      "cell_type": "code",
      "source": [],
      "metadata": {
        "id": "WAdhcnMbI9bS"
      },
      "execution_count": null,
      "outputs": []
    }
  ]
}
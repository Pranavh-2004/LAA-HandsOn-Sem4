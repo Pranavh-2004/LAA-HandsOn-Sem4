{
  "nbformat": 4,
  "nbformat_minor": 0,
  "metadata": {
    "colab": {
      "provenance": []
    },
    "kernelspec": {
      "name": "python3",
      "display_name": "Python 3"
    },
    "language_info": {
      "name": "python"
    }
  },
  "cells": [
    {
      "cell_type": "code",
      "execution_count": null,
      "metadata": {
        "id": "1a56T879C9W7"
      },
      "outputs": [],
      "source": [
        "# Project 5: Systems of linear equations and college football team ranking (with an example of the Big 12)\n",
        "import numpy as np\n",
        "from scipy.io import loadmat"
      ]
    },
    {
      "cell_type": "code",
      "source": [
        "# Load the matrices from .mat files\n",
        "data_scores = loadmat(\"Scores.mat\")\n",
        "data_differentials = loadmat(\"Differentials.mat\")\n",
        "# Extract the relevant matrices\n",
        "Scores = data_scores['Scores']\n",
        "Differentials = data_differentials['Differentials']"
      ],
      "metadata": {
        "id": "WH_qftcmDiB_"
      },
      "execution_count": null,
      "outputs": []
    },
    {
      "cell_type": "code",
      "source": [
        "# Colley's method\n",
        "# Define variables\n",
        "games = np.abs(Scores)\n",
        "total = np.sum(games, axis=1)\n",
        "# Construct Colley's matrix and the right-hand side vector\n",
        "ColleyMatrix = 2 * np.eye(10) + np.diag(total) - games\n",
        "RightSide = 1 + 0.5 * np.sum(Scores, axis=1)\n",
        "# Print to verify\n",
        "print(\"ColleyMatrix:\\n\", ColleyMatrix)\n",
        "print(\"\\nRightSide:\\n\", RightSide)"
      ],
      "metadata": {
        "colab": {
          "base_uri": "https://localhost:8080/"
        },
        "id": "kYfMBzVuDlEr",
        "outputId": "09b61043-6f6d-4124-b04e-c61ef2e80830"
      },
      "execution_count": null,
      "outputs": [
        {
          "output_type": "stream",
          "name": "stdout",
          "text": [
            "ColleyMatrix:\n",
            " [[11. -1. -1. -1. -1. -1. -1. -1. -1. -1.]\n",
            " [-1. 11. -1. -1. -1. -1. -1. -1. -1. -1.]\n",
            " [-1. -1. 11. -1. -1. -1. -1. -1. -1. -1.]\n",
            " [-1. -1. -1. 11. -1. -1. -1. -1. -1. -1.]\n",
            " [-1. -1. -1. -1. 11. -1. -1. -1. -1. -1.]\n",
            " [-1. -1. -1. -1. -1. 11. -1. -1. -1. -1.]\n",
            " [-1. -1. -1. -1. -1. -1. 11. -1. -1. -1.]\n",
            " [-1. -1. -1. -1. -1. -1. -1. 11. -1. -1.]\n",
            " [-1. -1. -1. -1. -1. -1. -1. -1. 11. -1.]\n",
            " [-1. -1. -1. -1. -1. -1. -1. -1. -1. 11.]]\n",
            "\n",
            "RightSide:\n",
            " [-0.5 -1.5 -2.5  2.5  5.5  3.5  0.5 -0.5 -0.5  2.5]\n"
          ]
        }
      ]
    },
    {
      "cell_type": "code",
      "source": [
        "# Solve the linear system using np.linalg.solve\n",
        "RanksColley = np.linalg.solve(ColleyMatrix, RightSide)\n",
        "# Variables: RanksColley\n",
        "print(\"RanksColley:\\n\", RanksColley)"
      ],
      "metadata": {
        "colab": {
          "base_uri": "https://localhost:8080/"
        },
        "id": "_zLxgWEVDvhF",
        "outputId": "86c9de02-c1ae-4cc5-a02a-34471b064480"
      },
      "execution_count": null,
      "outputs": [
        {
          "output_type": "stream",
          "name": "stdout",
          "text": [
            "RanksColley:\n",
            " [0.33333333 0.25       0.16666667 0.58333333 0.83333333 0.66666667\n",
            " 0.41666667 0.33333333 0.33333333 0.58333333]\n"
          ]
        }
      ]
    },
    {
      "cell_type": "code",
      "source": [
        "# Teams list\n",
        "Teams = [\n",
        "'Baylor', 'Iowa State', 'University of Kansas', 'Kansas State',\n",
        "'University of Oklahoma', 'Oklahoma State', 'Texas Christian',\n",
        "'University of Texas Austin', 'Texas Tech', 'West Virginia'\n",
        "]\n",
        "# Sort the ranks in descending order and get the order of indices\n",
        "Order = np.argsort(RanksColley)[::-1]\n",
        "RanksDescend = RanksColley[Order]\n",
        "# Display the results\n",
        "print('\\n')\n",
        "for j in range(10):\n",
        "    print(f'{RanksColley[Order[j]]:8.3f} {Teams[Order[j]]:15s}')"
      ],
      "metadata": {
        "colab": {
          "base_uri": "https://localhost:8080/"
        },
        "id": "qHHeTADYDye5",
        "outputId": "22f1879b-5bda-4593-ade3-13041d1ba3ae"
      },
      "execution_count": null,
      "outputs": [
        {
          "output_type": "stream",
          "name": "stdout",
          "text": [
            "\n",
            "\n",
            "   0.833 University of Oklahoma\n",
            "   0.667 Oklahoma State \n",
            "   0.583 Kansas State   \n",
            "   0.583 West Virginia  \n",
            "   0.417 Texas Christian\n",
            "   0.333 Baylor         \n",
            "   0.333 Texas Tech     \n",
            "   0.333 University of Texas Austin\n",
            "   0.250 Iowa State     \n",
            "   0.167 University of Kansas\n"
          ]
        }
      ]
    },
    {
      "cell_type": "code",
      "source": [
        "# Massey's method\n",
        "l = 0\n",
        "P = []\n",
        "B = []\n",
        "# Loop through the upper triangular part of the Differentials matrix\n",
        "for j in range(9):\n",
        "    for k in range(j + 1, 10):\n",
        "        if Differentials[j, k] != 0:\n",
        "            l += 1\n",
        "            row = np.zeros(10)\n",
        "            row[j] = 1\n",
        "            row[k] = -1\n",
        "            P.append(row)\n",
        "            B.append(Differentials[j, k])\n",
        "# Convert lists to numpy arrays\n",
        "P = np.array(P)\n",
        "B = np.array(B)\n",
        "# Variables: P, B\n",
        "print(\"Matrix P:\\n\", P)\n",
        "print(\"Vector B:\\n\", B)"
      ],
      "metadata": {
        "colab": {
          "base_uri": "https://localhost:8080/"
        },
        "id": "ohI0w9Z-D21m",
        "outputId": "89fccb12-2a77-47b4-f7a8-994bd5cebc15"
      },
      "execution_count": null,
      "outputs": [
        {
          "output_type": "stream",
          "name": "stdout",
          "text": [
            "Matrix P:\n",
            " [[ 1. -1.  0.  0.  0.  0.  0.  0.  0.  0.]\n",
            " [ 1.  0. -1.  0.  0.  0.  0.  0.  0.  0.]\n",
            " [ 1.  0.  0. -1.  0.  0.  0.  0.  0.  0.]\n",
            " [ 1.  0.  0.  0. -1.  0.  0.  0.  0.  0.]\n",
            " [ 1.  0.  0.  0.  0. -1.  0.  0.  0.  0.]\n",
            " [ 1.  0.  0.  0.  0.  0. -1.  0.  0.  0.]\n",
            " [ 1.  0.  0.  0.  0.  0.  0. -1.  0.  0.]\n",
            " [ 1.  0.  0.  0.  0.  0.  0.  0. -1.  0.]\n",
            " [ 1.  0.  0.  0.  0.  0.  0.  0.  0. -1.]\n",
            " [ 0.  1. -1.  0.  0.  0.  0.  0.  0.  0.]\n",
            " [ 0.  1.  0. -1.  0.  0.  0.  0.  0.  0.]\n",
            " [ 0.  1.  0.  0. -1.  0.  0.  0.  0.  0.]\n",
            " [ 0.  1.  0.  0.  0. -1.  0.  0.  0.  0.]\n",
            " [ 0.  1.  0.  0.  0.  0. -1.  0.  0.  0.]\n",
            " [ 0.  1.  0.  0.  0.  0.  0. -1.  0.  0.]\n",
            " [ 0.  1.  0.  0.  0.  0.  0.  0. -1.  0.]\n",
            " [ 0.  1.  0.  0.  0.  0.  0.  0.  0. -1.]\n",
            " [ 0.  0.  1. -1.  0.  0.  0.  0.  0.  0.]\n",
            " [ 0.  0.  1.  0. -1.  0.  0.  0.  0.  0.]\n",
            " [ 0.  0.  1.  0.  0. -1.  0.  0.  0.  0.]\n",
            " [ 0.  0.  1.  0.  0.  0. -1.  0.  0.  0.]\n",
            " [ 0.  0.  1.  0.  0.  0.  0. -1.  0.  0.]\n",
            " [ 0.  0.  1.  0.  0.  0.  0.  0. -1.  0.]\n",
            " [ 0.  0.  1.  0.  0.  0.  0.  0.  0. -1.]\n",
            " [ 0.  0.  0.  1. -1.  0.  0.  0.  0.  0.]\n",
            " [ 0.  0.  0.  1.  0. -1.  0.  0.  0.  0.]\n",
            " [ 0.  0.  0.  1.  0.  0. -1.  0.  0.  0.]\n",
            " [ 0.  0.  0.  1.  0.  0.  0. -1.  0.  0.]\n",
            " [ 0.  0.  0.  1.  0.  0.  0.  0. -1.  0.]\n",
            " [ 0.  0.  0.  1.  0.  0.  0.  0.  0. -1.]\n",
            " [ 0.  0.  0.  0.  1. -1.  0.  0.  0.  0.]\n",
            " [ 0.  0.  0.  0.  1.  0. -1.  0.  0.  0.]\n",
            " [ 0.  0.  0.  0.  1.  0.  0. -1.  0.  0.]\n",
            " [ 0.  0.  0.  0.  1.  0.  0.  0. -1.  0.]\n",
            " [ 0.  0.  0.  0.  1.  0.  0.  0.  0. -1.]\n",
            " [ 0.  0.  0.  0.  0.  1. -1.  0.  0.  0.]\n",
            " [ 0.  0.  0.  0.  0.  1.  0. -1.  0.  0.]\n",
            " [ 0.  0.  0.  0.  0.  1.  0.  0. -1.  0.]\n",
            " [ 0.  0.  0.  0.  0.  1.  0.  0.  0. -1.]\n",
            " [ 0.  0.  0.  0.  0.  0.  1. -1.  0.  0.]\n",
            " [ 0.  0.  0.  0.  0.  0.  1.  0. -1.  0.]\n",
            " [ 0.  0.  0.  0.  0.  0.  1.  0.  0. -1.]\n",
            " [ 0.  0.  0.  0.  0.  0.  0.  1. -1.  0.]\n",
            " [ 0.  0.  0.  0.  0.  0.  0.  1.  0. -1.]\n",
            " [ 0.  0.  0.  0.  0.  0.  0.  0.  1. -1.]]\n",
            "Vector B:\n",
            " [  3  42 -21 -21  11 -40  -1 -19  -3   7  -5 -10  -7 -21 -21  56 -30 -15\n",
            " -53 -24  -1   3 -36 -27 -21  -7  24   3   6  -1  18   6   5   7  28  25\n",
            "  18   1  17  22  -3 -24   8  -4 -31]\n"
          ]
        }
      ]
    },
    {
      "cell_type": "code",
      "source": [
        "# Create the normal system of linear equations\n",
        "A = np.dot(P.T, P)\n",
        "D = np.dot(P.T, B)\n",
        "# Variables: A, D\n",
        "print(\"Matrix A:\\n\", A)\n",
        "print(\"Vector D:\\n\", D)"
      ],
      "metadata": {
        "id": "WgZpFbngEK3W",
        "colab": {
          "base_uri": "https://localhost:8080/"
        },
        "outputId": "34b741b4-e852-4a54-83e4-c8b9eba5f7c9"
      },
      "execution_count": null,
      "outputs": [
        {
          "output_type": "stream",
          "name": "stdout",
          "text": [
            "Matrix A:\n",
            " [[ 9. -1. -1. -1. -1. -1. -1. -1. -1. -1.]\n",
            " [-1.  9. -1. -1. -1. -1. -1. -1. -1. -1.]\n",
            " [-1. -1.  9. -1. -1. -1. -1. -1. -1. -1.]\n",
            " [-1. -1. -1.  9. -1. -1. -1. -1. -1. -1.]\n",
            " [-1. -1. -1. -1.  9. -1. -1. -1. -1. -1.]\n",
            " [-1. -1. -1. -1. -1.  9. -1. -1. -1. -1.]\n",
            " [-1. -1. -1. -1. -1. -1.  9. -1. -1. -1.]\n",
            " [-1. -1. -1. -1. -1. -1. -1.  9. -1. -1.]\n",
            " [-1. -1. -1. -1. -1. -1. -1. -1.  9. -1.]\n",
            " [-1. -1. -1. -1. -1. -1. -1. -1. -1.  9.]]\n",
            "Vector D:\n",
            " [ -49.  -34. -202.   45.  169.   70.    2.  -25.  -51.   75.]\n"
          ]
        }
      ]
    },
    {
      "cell_type": "code",
      "source": [
        "# Substitute the last row of the matrix and the last element of the vector\n",
        "A[9, :] = np.ones(10)\n",
        "D[9] = 0\n",
        "# Print the updated matrix and vector\n",
        "print(\"Updated Matrix A:\\n\", A)\n",
        "print(\"Updated Vector D:\\n\", D)"
      ],
      "metadata": {
        "colab": {
          "base_uri": "https://localhost:8080/"
        },
        "id": "mGcLLqKMEa61",
        "outputId": "c3b02860-c01d-4050-e3f6-041e17825fb4"
      },
      "execution_count": null,
      "outputs": [
        {
          "output_type": "stream",
          "name": "stdout",
          "text": [
            "Updated Matrix A:\n",
            " [[ 9. -1. -1. -1. -1. -1. -1. -1. -1. -1.]\n",
            " [-1.  9. -1. -1. -1. -1. -1. -1. -1. -1.]\n",
            " [-1. -1.  9. -1. -1. -1. -1. -1. -1. -1.]\n",
            " [-1. -1. -1.  9. -1. -1. -1. -1. -1. -1.]\n",
            " [-1. -1. -1. -1.  9. -1. -1. -1. -1. -1.]\n",
            " [-1. -1. -1. -1. -1.  9. -1. -1. -1. -1.]\n",
            " [-1. -1. -1. -1. -1. -1.  9. -1. -1. -1.]\n",
            " [-1. -1. -1. -1. -1. -1. -1.  9. -1. -1.]\n",
            " [-1. -1. -1. -1. -1. -1. -1. -1.  9. -1.]\n",
            " [ 1.  1.  1.  1.  1.  1.  1.  1.  1.  1.]]\n",
            "Updated Vector D:\n",
            " [ -49.  -34. -202.   45.  169.   70.    2.  -25.  -51.    0.]\n"
          ]
        }
      ]
    },
    {
      "cell_type": "code",
      "source": [
        "# Solve the system\n",
        "RanksMassey = np.linalg.solve(A, D)\n",
        "# Print the results\n",
        "print(\"RanksMassey:\\n\", RanksMassey)"
      ],
      "metadata": {
        "colab": {
          "base_uri": "https://localhost:8080/"
        },
        "id": "n1tm0eOQEh1i",
        "outputId": "e55fe90a-8aed-41a7-8bfd-c55243360fb0"
      },
      "execution_count": null,
      "outputs": [
        {
          "output_type": "stream",
          "name": "stdout",
          "text": [
            "RanksMassey:\n",
            " [ -4.9  -3.4 -20.2   4.5  16.9   7.    0.2  -2.5  -5.1   7.5]\n"
          ]
        }
      ]
    },
    {
      "cell_type": "code",
      "source": [
        "# Teams list\n",
        "Teams = ['Baylor', 'Iowa State', 'University of Kansas', 'Kansas State',\n",
        "'University of Oklahoma', 'Oklahoma State', 'Texas Christian',\n",
        "'University of Texas Austin', 'Texas Tech', 'West Virginia']\n",
        "# Sort the ranks in descending order\n",
        "Order = np.argsort(RanksMassey)[::-1]\n",
        "RanksDescend = RanksMassey[Order]\n",
        "# Print the results\n",
        "print(\"\\nMassey Rankings:\")\n",
        "for j in range(10):\n",
        "    print(f'{RanksDescend[j]:8.3f} {Teams[Order[j]]:<15}')"
      ],
      "metadata": {
        "colab": {
          "base_uri": "https://localhost:8080/"
        },
        "id": "rVkVwELlElR4",
        "outputId": "a4471a73-f3d4-401a-96b8-227335b435ea"
      },
      "execution_count": null,
      "outputs": [
        {
          "output_type": "stream",
          "name": "stdout",
          "text": [
            "\n",
            "Massey Rankings:\n",
            "  16.900 University of Oklahoma\n",
            "   7.500 West Virginia  \n",
            "   7.000 Oklahoma State \n",
            "   4.500 Kansas State   \n",
            "   0.200 Texas Christian\n",
            "  -2.500 University of Texas Austin\n",
            "  -3.400 Iowa State     \n",
            "  -4.900 Baylor         \n",
            "  -5.100 Texas Tech     \n",
            " -20.200 University of Kansas\n"
          ]
        }
      ]
    },
    {
      "cell_type": "code",
      "source": [
        "print(\"Compare results of past 2 tasks\")"
      ],
      "metadata": {
        "colab": {
          "base_uri": "https://localhost:8080/"
        },
        "id": "q3xvZMUoErgJ",
        "outputId": "698588b2-be40-426b-ec9a-835c7aa4e772"
      },
      "execution_count": null,
      "outputs": [
        {
          "output_type": "stream",
          "name": "stdout",
          "text": [
            "Compare results of past 2 tasks\n"
          ]
        }
      ]
    },
    {
      "cell_type": "code",
      "source": [
        "# Identify the current top two teams according to Colley's rankings\n",
        "top_teams_colley = sorted(range(len(RanksColley)), key=lambda i: RanksColley[i],\n",
        "reverse=True)[:2]\n",
        "# Simulate switching the result of the game between the top two teams\n",
        "# For example, if team 0 (top_teams_colley[0]) played against team 1 (top_teams_colley[1])\n",
        "# and team 0 lost, we switch it to a win.\n",
        "Scores[top_teams_colley[0], top_teams_colley[1]] = -Scores[top_teams_colley[0],\n",
        "top_teams_colley[1]]\n",
        "# Recalculate Colley's rankings\n",
        "games = np.abs(Scores)\n",
        "total = np.sum(games, axis=1)\n",
        "ColleyMatrix = 2 * np.eye(10) + np.diag(total) - games\n",
        "RightSide = (1 + 0.5 * np.sum(Scores, axis=1))\n",
        "RanksColley_updated = np.linalg.solve(ColleyMatrix, RightSide)\n",
        "# Display the updated rankings\n",
        "teams = ['Baylor', 'Iowa State', 'University of Kansas', 'Kansas State',\n",
        "'University of Oklahoma', 'Oklahoma State', 'Texas Christian',\n",
        "'University of Texas Austin', 'Texas Tech', 'West Virginia']\n",
        "# Sort and print rankings\n",
        "order_updated = np.argsort(RanksColley_updated)[::-1]\n",
        "print(\"\\nUpdated Colley's Rankings After Game Result Switch:\")\n",
        "for j in range(10):\n",
        "    print(f\"{RanksColley_updated[order_updated[j]]:8.3f} {teams[order_updated[j]]}\")\n",
        "# Reset the game result for future calculations\n",
        "Scores[top_teams_colley[0], top_teams_colley[1]] = -Scores[top_teams_colley[0],\n",
        "top_teams_colley[1]]"
      ],
      "metadata": {
        "colab": {
          "base_uri": "https://localhost:8080/"
        },
        "id": "0mAvQOJoEyzG",
        "outputId": "a6670981-0f0a-4d86-994a-deee54c86b7a"
      },
      "execution_count": null,
      "outputs": [
        {
          "output_type": "stream",
          "name": "stdout",
          "text": [
            "\n",
            "Updated Colley's Rankings After Game Result Switch:\n",
            "   0.708 University of Oklahoma\n",
            "   0.625 Oklahoma State\n",
            "   0.542 Kansas State\n",
            "   0.542 West Virginia\n",
            "   0.375 Texas Christian\n",
            "   0.292 Baylor\n",
            "   0.292 Texas Tech\n",
            "   0.292 University of Texas Austin\n",
            "   0.208 Iowa State\n",
            "   0.125 University of Kansas\n"
          ]
        }
      ]
    },
    {
      "cell_type": "code",
      "source": [
        "# Identify the current top two teams according to Massey's rankings\n",
        "top_teams_massey = sorted(range(len(RanksMassey)), key=lambda i: RanksMassey[i],\n",
        "reverse=True)[:2]\n",
        "# Simulate switching the result of the game between the top two teams for Massey's method\n",
        "# Adjust the differential matrix Differentials for the switched game result\n",
        "# For example, if team 0 (top_teams_massey[0]) played against team 1\n",
        "(top_teams_massey[1])\n",
        "# and team 0 lost, we switch it to a win.\n",
        "if Differentials[top_teams_massey[0], top_teams_massey[1]] != 0:\n",
        "    Differentials[top_teams_massey[0], top_teams_massey[1]] = - Differentials[top_teams_massey[0], top_teams_massey[1]]\n",
        "# Reset the initial matrix P to be large enough to accommodate all possible rows\n",
        "P = np.zeros((45, 10))\n",
        "B = np.zeros(45)\n",
        "l = -1 # Initialize l to -1 because it will be incremented at the beginning of the loop\n",
        "# Populate P and B based on the conditionals in your loop\n",
        "for j in range(9):\n",
        "    for k in range(j + 1, 10):\n",
        "        if Differentials[j, k] != 0:\n",
        "            l += 1\n",
        "            P[l, j] = 1\n",
        "            P[l, k] = -1\n",
        "            B[l] = Differentials[j, k]\n",
        "# Adjust for the last row substitution as described in the previous steps\n",
        "P[44, :] = np.ones(10)\n",
        "B[44] = 0\n",
        "# Recalculate Massey's rankings\n",
        "A = np.dot(P.T, P)\n",
        "D = np.dot(P.T, B)\n",
        "# Solve the system again\n",
        "RanksMassey_updated = np.linalg.solve(A, D)\n",
        "# Display the updated rankings\n",
        "print(\"\\nUpdated Massey's Rankings After Game Result Switch:\")\n",
        "order_updated_massey = np.argsort(RanksMassey_updated)[::-1]\n",
        "for j in range(10):\n",
        "    print(f\"{RanksMassey_updated[order_updated_massey[j]]:8.3f} {teams[order_updated_massey[j]]}\")\n",
        "# Reset the game result for future calculations\n",
        "if Differentials[top_teams_massey[0], top_teams_massey[1]] != 0:\n",
        "    Differentials[top_teams_massey[0], top_teams_massey[1]] = - Differentials[top_teams_massey[0], top_teams_massey[1]]"
      ],
      "metadata": {
        "id": "6GebuRDnE5VY",
        "outputId": "88549a9c-e3ca-40ce-b164-64a17486e93e",
        "colab": {
          "base_uri": "https://localhost:8080/"
        }
      },
      "execution_count": null,
      "outputs": [
        {
          "output_type": "stream",
          "name": "stdout",
          "text": [
            "\n",
            "Updated Massey's Rankings After Game Result Switch:\n",
            "  11.500 West Virginia\n",
            "  11.300 University of Oklahoma\n",
            "   7.000 Oklahoma State\n",
            "   4.500 Kansas State\n",
            "   0.200 Texas Christian\n",
            "  -2.500 University of Texas Austin\n",
            "  -3.400 Iowa State\n",
            "  -3.500 Texas Tech\n",
            "  -4.900 Baylor\n",
            " -20.200 University of Kansas\n"
          ]
        }
      ]
    },
    {
      "cell_type": "code",
      "source": [],
      "metadata": {
        "id": "JTZFoB5RE70v"
      },
      "execution_count": null,
      "outputs": []
    }
  ]
}
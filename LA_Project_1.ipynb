{
  "nbformat": 4,
  "nbformat_minor": 0,
  "metadata": {
    "colab": {
      "provenance": []
    },
    "kernelspec": {
      "name": "python3",
      "display_name": "Python 3"
    },
    "language_info": {
      "name": "python"
    }
  },
  "cells": [
    {
      "cell_type": "code",
      "execution_count": null,
      "metadata": {
        "id": "ETGXWQxF11ZX"
      },
      "outputs": [],
      "source": [
        "# Project 1: Basic operations with matrices in Python\n",
        "import numpy as np"
      ]
    },
    {
      "cell_type": "code",
      "source": [
        "A = np.array([[1, 2, -10, 4], [3, 4, 5, -6], [3, 3, -2, 5]])\n",
        "B = np.array([3, 3, 4, 2])\n",
        "print(\"A:\\n\", A)\n",
        "print(\"B:\\n\", B)"
      ],
      "metadata": {
        "colab": {
          "base_uri": "https://localhost:8080/"
        },
        "id": "vkyLT3V52C53",
        "outputId": "5fbdeee8-b5e5-497e-e07e-2fc8e189a358"
      },
      "execution_count": null,
      "outputs": [
        {
          "output_type": "stream",
          "name": "stdout",
          "text": [
            "A:\n",
            " [[  1   2 -10   4]\n",
            " [  3   4   5  -6]\n",
            " [  3   3  -2   5]]\n",
            "B:\n",
            " [3 3 4 2]\n"
          ]
        }
      ]
    },
    {
      "cell_type": "code",
      "source": [
        "#function to determine length\n",
        "def length(matrix):\n",
        "    return max(matrix.shape)\n",
        "\n",
        "# Length of A and B\n",
        "lengthA = length(A)\n",
        "lengthB = length(B)\n",
        "print(\"lengthA:\", lengthA)\n",
        "print(\"lengthB:\", lengthB)"
      ],
      "metadata": {
        "colab": {
          "base_uri": "https://localhost:8080/"
        },
        "id": "rJnSjqm72EwL",
        "outputId": "39abdc99-621b-4e7e-e1c7-3685171deb90"
      },
      "execution_count": null,
      "outputs": [
        {
          "output_type": "stream",
          "name": "stdout",
          "text": [
            "lengthA: 4\n",
            "lengthB: 4\n"
          ]
        }
      ]
    },
    {
      "cell_type": "code",
      "source": [
        "# Add B as the fourth row of A and create the new matrix C\n",
        "C = np.vstack((A, B))\n",
        "print(\"C:\\n\", C)"
      ],
      "metadata": {
        "colab": {
          "base_uri": "https://localhost:8080/"
        },
        "id": "p7kU7Ve72N44",
        "outputId": "af4013ea-ea94-40b0-e09b-006684824d94"
      },
      "execution_count": null,
      "outputs": [
        {
          "output_type": "stream",
          "name": "stdout",
          "text": [
            "C:\n",
            " [[  1   2 -10   4]\n",
            " [  3   4   5  -6]\n",
            " [  3   3  -2   5]\n",
            " [  3   3   4   2]]\n"
          ]
        }
      ]
    },
    {
      "cell_type": "code",
      "source": [
        "# Create D from rows 2, 3, 4 and columns 3, 4 of C\n",
        "D = C[1:4, 2:4]\n",
        "print(\"D:\\n\", D)"
      ],
      "metadata": {
        "colab": {
          "base_uri": "https://localhost:8080/"
        },
        "id": "tG1rrHYV2Sle",
        "outputId": "219719a9-a2f2-46bf-d6a2-fcafbdb84258"
      },
      "execution_count": null,
      "outputs": [
        {
          "output_type": "stream",
          "name": "stdout",
          "text": [
            "D:\n",
            " [[ 5 -6]\n",
            " [-2  5]\n",
            " [ 4  2]]\n"
          ]
        }
      ]
    },
    {
      "cell_type": "code",
      "source": [
        "# Transpose D to create E\n",
        "E = D.T\n",
        "print(\"E:\\n\", E)"
      ],
      "metadata": {
        "colab": {
          "base_uri": "https://localhost:8080/"
        },
        "id": "Zdc5q6Si2bTo",
        "outputId": "7dc2c959-8bd9-402e-93ec-55a555ae379e"
      },
      "execution_count": null,
      "outputs": [
        {
          "output_type": "stream",
          "name": "stdout",
          "text": [
            "E:\n",
            " [[ 5 -2  4]\n",
            " [-6  5  2]]\n"
          ]
        }
      ]
    },
    {
      "cell_type": "code",
      "source": [
        "# Check the size of E\n",
        "m, n = E.shape\n",
        "print(\"m:\", m)\n",
        "print(\"n:\", n)"
      ],
      "metadata": {
        "colab": {
          "base_uri": "https://localhost:8080/"
        },
        "id": "3OvU-GWM2ko5",
        "outputId": "919bc26e-22b4-4a60-a3f3-a941da96bb31"
      },
      "execution_count": null,
      "outputs": [
        {
          "output_type": "stream",
          "name": "stdout",
          "text": [
            "m: 2\n",
            "n: 3\n"
          ]
        }
      ]
    },
    {
      "cell_type": "code",
      "source": [
        "# Create equally spaced vectors using arange and linspace\n",
        "EqualSpaced = np.arange(0, 2 * np.pi, np.pi / 10)\n",
        "EqualSpaced1 = np.linspace(0, 2 * np.pi, 21)\n",
        "print(\"EqualSpaced:\\n\", EqualSpaced)\n",
        "print(\"EqualSpaced1:\\n\", EqualSpaced1)"
      ],
      "metadata": {
        "colab": {
          "base_uri": "https://localhost:8080/"
        },
        "id": "V6Jh3lyc2pxh",
        "outputId": "2f205734-3158-4c59-a259-646c3f842ac7"
      },
      "execution_count": null,
      "outputs": [
        {
          "output_type": "stream",
          "name": "stdout",
          "text": [
            "EqualSpaced:\n",
            " [0.         0.31415927 0.62831853 0.9424778  1.25663706 1.57079633\n",
            " 1.88495559 2.19911486 2.51327412 2.82743339 3.14159265 3.45575192\n",
            " 3.76991118 4.08407045 4.39822972 4.71238898 5.02654825 5.34070751\n",
            " 5.65486678 5.96902604]\n",
            "EqualSpaced1:\n",
            " [0.         0.31415927 0.62831853 0.9424778  1.25663706 1.57079633\n",
            " 1.88495559 2.19911486 2.51327412 2.82743339 3.14159265 3.45575192\n",
            " 3.76991118 4.08407045 4.39822972 4.71238898 5.02654825 5.34070751\n",
            " 5.65486678 5.96902604 6.28318531]\n"
          ]
        }
      ]
    },
    {
      "cell_type": "code",
      "source": [
        "# Find the maximum and minimum in each column of A\n",
        "maxcolA = np.max(A, axis=0)\n",
        "mincolA = np.min(A, axis=0)\n",
        "print(\"maxcolA:\", maxcolA)\n",
        "print(\"mincolA:\", mincolA)"
      ],
      "metadata": {
        "colab": {
          "base_uri": "https://localhost:8080/"
        },
        "id": "Yib1mPtE2vQ6",
        "outputId": "1709acd8-80ed-476c-bd27-387d79573f2e"
      },
      "execution_count": null,
      "outputs": [
        {
          "output_type": "stream",
          "name": "stdout",
          "text": [
            "maxcolA: [3 4 5 5]\n",
            "mincolA: [  1   2 -10  -6]\n"
          ]
        }
      ]
    },
    {
      "cell_type": "code",
      "source": [
        "# Find the maximum and minimum in each row of A\n",
        "maxrowA = np.max(A, axis=1)\n",
        "minrowA = np.min(A, axis=1)\n",
        "# Find the maximum and minimum elements in the entire matrix A\n",
        "maxA = np.max(A)\n",
        "minA = np.min(A)\n",
        "print(\"maxrowA:\", maxrowA)\n",
        "print(\"minrowA:\", minrowA)\n",
        "print(\"maxA:\", maxA)\n",
        "print(\"minA:\", minA)"
      ],
      "metadata": {
        "colab": {
          "base_uri": "https://localhost:8080/"
        },
        "id": "NJNR_mrh2z6u",
        "outputId": "eef7f162-6b5b-417e-ba56-66d5a74d144e"
      },
      "execution_count": null,
      "outputs": [
        {
          "output_type": "stream",
          "name": "stdout",
          "text": [
            "maxrowA: [4 5 5]\n",
            "minrowA: [-10  -6  -2]\n",
            "maxA: 5\n",
            "minA: -10\n"
          ]
        }
      ]
    },
    {
      "cell_type": "code",
      "source": [
        "# Calculate mean and sum in each column and row of A\n",
        "meancolA = np.mean(A, axis=0)\n",
        "meanrowA = np.mean(A, axis=1)\n",
        "sumcolA = np.sum(A, axis=0)\n",
        "sumrowA = np.sum(A, axis=1)\n",
        "# Calculate mean and sum of all elements in A\n",
        "meanA = np.mean(A)\n",
        "sumA = np.sum(A)\n",
        "print(\"meancolA:\", meancolA)\n",
        "print(\"meanrowA:\", meanrowA)\n",
        "print(\"sumcolA:\", sumcolA)\n",
        "print(\"sumrowA:\", sumrowA)\n",
        "print(\"meanA:\", meanA)\n",
        "print(\"sumA:\", sumA)"
      ],
      "metadata": {
        "colab": {
          "base_uri": "https://localhost:8080/"
        },
        "id": "pT5haH9u25aI",
        "outputId": "1abfe35e-452b-4083-a3c4-3f295b82ea47"
      },
      "execution_count": null,
      "outputs": [
        {
          "output_type": "stream",
          "name": "stdout",
          "text": [
            "meancolA: [ 2.33333333  3.         -2.33333333  1.        ]\n",
            "meanrowA: [-0.75  1.5   2.25]\n",
            "sumcolA: [ 7  9 -7  3]\n",
            "sumrowA: [-3  6  9]\n",
            "meanA: 1.0\n",
            "sumA: 12\n"
          ]
        }
      ]
    },
    {
      "cell_type": "code",
      "source": [
        "# Create matrices F and G with random integers from -4 to 4\n",
        "F = np.random.randint(-4, 5, (5, 3))\n",
        "G = np.random.randint(-4, 5, (5, 3))\n",
        "print(\"F:\\n\", F)\n",
        "print(\"G:\\n\", G)"
      ],
      "metadata": {
        "colab": {
          "base_uri": "https://localhost:8080/"
        },
        "id": "xmvjjUEx295H",
        "outputId": "5850a6aa-280c-48e9-b047-b389136ddeb5"
      },
      "execution_count": null,
      "outputs": [
        {
          "output_type": "stream",
          "name": "stdout",
          "text": [
            "F:\n",
            " [[-2 -4  2]\n",
            " [ 2 -4 -2]\n",
            " [ 4  2  3]\n",
            " [ 0  3 -1]\n",
            " [-4  4  1]]\n",
            "G:\n",
            " [[ 1  0  0]\n",
            " [ 0  2  0]\n",
            " [ 1  2 -4]\n",
            " [-3 -1 -4]\n",
            " [ 0  4 -4]]\n"
          ]
        }
      ]
    },
    {
      "cell_type": "code",
      "source": [
        "# Perform scalar multiplication, addition, subtraction, and element-wise multiplication on F and G\n",
        "ScMultF = 0.4 * F\n",
        "SumFG = F + G\n",
        "DiffFG = F - G\n",
        "ElProdFG = F * G\n",
        "print(\"ScMultF:\\n\", ScMultF)\n",
        "print(\"SumFG:\\n\", SumFG)\n",
        "print(\"DiffFG:\\n\", DiffFG)\n",
        "print(\"ElProdFG:\\n\", ElProdFG)"
      ],
      "metadata": {
        "colab": {
          "base_uri": "https://localhost:8080/"
        },
        "id": "-1kMKm7A3CiO",
        "outputId": "08fd4cf4-3b83-410d-90fd-61a29c69c190"
      },
      "execution_count": null,
      "outputs": [
        {
          "output_type": "stream",
          "name": "stdout",
          "text": [
            "ScMultF:\n",
            " [[-0.8 -1.6  0.8]\n",
            " [ 0.8 -1.6 -0.8]\n",
            " [ 1.6  0.8  1.2]\n",
            " [ 0.   1.2 -0.4]\n",
            " [-1.6  1.6  0.4]]\n",
            "SumFG:\n",
            " [[-1 -4  2]\n",
            " [ 2 -2 -2]\n",
            " [ 5  4 -1]\n",
            " [-3  2 -5]\n",
            " [-4  8 -3]]\n",
            "DiffFG:\n",
            " [[-3 -4  2]\n",
            " [ 2 -6 -2]\n",
            " [ 3  0  7]\n",
            " [ 3  4  3]\n",
            " [-4  0  5]]\n",
            "ElProdFG:\n",
            " [[ -2   0   0]\n",
            " [  0  -8   0]\n",
            " [  4   4 -12]\n",
            " [  0  -3   4]\n",
            " [  0  16  -4]]\n"
          ]
        }
      ]
    },
    {
      "cell_type": "code",
      "source": [
        "# Check the size of F and A\n",
        "sizeF = F.shape\n",
        "sizeA = A.shape\n",
        "print(\"sizeF:\", sizeF)\n",
        "print(\"sizeA:\", sizeA)"
      ],
      "metadata": {
        "colab": {
          "base_uri": "https://localhost:8080/"
        },
        "id": "TZnsgz453GWV",
        "outputId": "29286df6-2438-47e8-c9a3-f0ea34e4dc16"
      },
      "execution_count": null,
      "outputs": [
        {
          "output_type": "stream",
          "name": "stdout",
          "text": [
            "sizeF: (5, 3)\n",
            "sizeA: (3, 4)\n"
          ]
        }
      ]
    },
    {
      "cell_type": "code",
      "source": [
        "# Perform matrix multiplication of F and A if dimensions are compatible\n",
        "if sizeF[1] == sizeA[0]:\n",
        "    H = F @ A\n",
        "    print(\"H:\\n\", H)\n",
        "else:\n",
        "    print(\"Cannot multiply F and A due to incompatible dimensions.\")"
      ],
      "metadata": {
        "colab": {
          "base_uri": "https://localhost:8080/"
        },
        "id": "YAkKNJSo3KqP",
        "outputId": "60586de3-1356-4450-b2af-44f3d0c8c9c9"
      },
      "execution_count": null,
      "outputs": [
        {
          "output_type": "stream",
          "name": "stdout",
          "text": [
            "H:\n",
            " [[ -8 -14  -4  26]\n",
            " [-16 -18 -36  22]\n",
            " [ 19  25 -36  19]\n",
            " [  6   9  17 -23]\n",
            " [ 11  11  58 -35]]\n"
          ]
        }
      ]
    },
    {
      "cell_type": "code",
      "source": [
        "# Generate the identity matrix with 3 rows and 3 columns\n",
        "eye33 = np.eye(3)\n",
        "print(\"eye33:\\n\", eye33)"
      ],
      "metadata": {
        "colab": {
          "base_uri": "https://localhost:8080/"
        },
        "id": "GE_cAynX3OuC",
        "outputId": "a0f0e353-36e1-4fa4-8e25-cec8116999b6"
      },
      "execution_count": null,
      "outputs": [
        {
          "output_type": "stream",
          "name": "stdout",
          "text": [
            "eye33:\n",
            " [[1. 0. 0.]\n",
            " [0. 1. 0.]\n",
            " [0. 0. 1.]]\n"
          ]
        }
      ]
    },
    {
      "cell_type": "code",
      "source": [
        "# Generate matrices of zeros with size 5x3 and ones with size 4x2\n",
        "zeros53 = np.zeros((5, 3))\n",
        "ones42 = np.ones((4, 2))\n",
        "print(\"zeros53:\\n\", zeros53)\n",
        "print(\"ones42:\\n\", ones42)"
      ],
      "metadata": {
        "colab": {
          "base_uri": "https://localhost:8080/"
        },
        "id": "f-GLX6F33SH6",
        "outputId": "f50f1153-791d-46d9-cc1a-375ad0f12163"
      },
      "execution_count": null,
      "outputs": [
        {
          "output_type": "stream",
          "name": "stdout",
          "text": [
            "zeros53:\n",
            " [[0. 0. 0.]\n",
            " [0. 0. 0.]\n",
            " [0. 0. 0.]\n",
            " [0. 0. 0.]\n",
            " [0. 0. 0.]]\n",
            "ones42:\n",
            " [[1. 1.]\n",
            " [1. 1.]\n",
            " [1. 1.]\n",
            " [1. 1.]]\n"
          ]
        }
      ]
    },
    {
      "cell_type": "code",
      "source": [
        "# Generate a diagonal matrix S with the diagonal elements 1, 2, 7\n",
        "S = np.diag([1, 2, 7])\n",
        "print(\"S:\\n\", S)"
      ],
      "metadata": {
        "colab": {
          "base_uri": "https://localhost:8080/"
        },
        "id": "Lzl3LlYy3Vs9",
        "outputId": "33138918-963a-4613-e216-a2c3f4bc81cc"
      },
      "execution_count": null,
      "outputs": [
        {
          "output_type": "stream",
          "name": "stdout",
          "text": [
            "S:\n",
            " [[1 0 0]\n",
            " [0 2 0]\n",
            " [0 0 7]]\n"
          ]
        }
      ]
    },
    {
      "cell_type": "code",
      "source": [
        "# Extract the diagonal elements from a random 6x6 matrix\n",
        "R = np.random.rand(6, 6)\n",
        "diagR = np.diag(R)\n",
        "print(\"R:\", R)\n",
        "print(\"diagR:\", diagR)"
      ],
      "metadata": {
        "colab": {
          "base_uri": "https://localhost:8080/"
        },
        "id": "gZHkJ8lc3ZI8",
        "outputId": "10afa8ab-b96c-486c-b727-afa68f345cee"
      },
      "execution_count": null,
      "outputs": [
        {
          "output_type": "stream",
          "name": "stdout",
          "text": [
            "R: [[0.40151202 0.62282625 0.35680583 0.01422376 0.05999239 0.32926742]\n",
            " [0.10496773 0.99996929 0.95455657 0.29959249 0.6798288  0.15754804]\n",
            " [0.39796597 0.07202853 0.43580223 0.25549625 0.77360268 0.52160439]\n",
            " [0.01999679 0.75971532 0.98973635 0.8658178  0.71202421 0.90482223]\n",
            " [0.79462579 0.37573559 0.46681164 0.18296374 0.87420623 0.53091008]\n",
            " [0.05852918 0.53290773 0.23654192 0.14048134 0.69536968 0.92474325]]\n",
            "diagR: [0.40151202 0.99996929 0.43580223 0.8658178  0.87420623 0.92474325]\n"
          ]
        }
      ]
    },
    {
      "cell_type": "code",
      "source": [
        "# Create a sparse diagonal matrix and convert to dense\n",
        "from scipy.sparse import diags\n",
        "diag121 = diags([-np.ones(10), 2*np.ones(10), -np.ones(10)], [-1, 0, 1], shape=(10,\n",
        "10)).todense()\n",
        "print(\"diag121:\\n\", diag121)"
      ],
      "metadata": {
        "colab": {
          "base_uri": "https://localhost:8080/"
        },
        "id": "7YOZ1HZk3diZ",
        "outputId": "56d4a788-8501-4ee5-c3a9-f793b9d74342"
      },
      "execution_count": null,
      "outputs": [
        {
          "output_type": "stream",
          "name": "stdout",
          "text": [
            "diag121:\n",
            " [[ 2. -1.  0.  0.  0.  0.  0.  0.  0.  0.]\n",
            " [-1.  2. -1.  0.  0.  0.  0.  0.  0.  0.]\n",
            " [ 0. -1.  2. -1.  0.  0.  0.  0.  0.  0.]\n",
            " [ 0.  0. -1.  2. -1.  0.  0.  0.  0.  0.]\n",
            " [ 0.  0.  0. -1.  2. -1.  0.  0.  0.  0.]\n",
            " [ 0.  0.  0.  0. -1.  2. -1.  0.  0.  0.]\n",
            " [ 0.  0.  0.  0.  0. -1.  2. -1.  0.  0.]\n",
            " [ 0.  0.  0.  0.  0.  0. -1.  2. -1.  0.]\n",
            " [ 0.  0.  0.  0.  0.  0.  0. -1.  2. -1.]\n",
            " [ 0.  0.  0.  0.  0.  0.  0.  0. -1.  2.]]\n"
          ]
        }
      ]
    }
  ]
}